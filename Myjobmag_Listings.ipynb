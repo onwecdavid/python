{
  "nbformat": 4,
  "nbformat_minor": 0,
  "metadata": {
    "colab": {
      "provenance": [],
      "gpuType": "T4"
    },
    "kernelspec": {
      "name": "python3",
      "display_name": "Python 3"
    },
    "language_info": {
      "name": "python"
    }
  },
  "cells": [
    {
      "cell_type": "markdown",
      "source": [
        "# Overview\n",
        "\n",
        "**Project Scenario**\n",
        "\n",
        "The team at the recruitment agency is trying to improve its sourcing of job vacancies. To do this the agency relies on multiple job posting sites to identify potential job openings for its clients. However, manually searching through each site is time-consuming and often leads to missed opportunities.  \n",
        "\n",
        "We would  analyze the data using web scraping tools that can automatically extract job posting data from multiple job posting sites.  The team will use the analysis to provide a more efficient way to provide job vacancies to better serve its clients. This feature will help the recruitment agency by getting relevant openings to their clients more quickly, giving their clients a competitive advantage over other applicants.\n",
        "\n",
        "**Project Objectives**\n",
        "\n",
        "- Increase the efficiency of job vacancy sourcing\n",
        "\n",
        "- Improve the quality of job vacancy sourcing  \n",
        "\n",
        "- Gain a competitive advantage\n",
        "\n",
        "\n",
        "\n",
        "**The task** will be to conduct a web scraping data analysis to automatically extract job posting data from a job posting site. To do this, an environment would be set up, identify the job posting site, scrape the data,  process, analyze, and visualize the data."
      ],
      "metadata": {
        "id": "H4E04amy1odU"
      }
    },
    {
      "cell_type": "markdown",
      "source": [
        "The site to be used in our web scrapping is myjobmag.com\n",
        "\n",
        "We would create a general purpose job scraper for [www.myjobmag.com](https://www.myjobmag.com)"
      ],
      "metadata": {
        "id": "ismdKtUo1aWo"
      }
    },
    {
      "cell_type": "markdown",
      "source": [
        "### Importing the important libraries to be used"
      ],
      "metadata": {
        "id": "K9qr5b0K1yMn"
      }
    },
    {
      "cell_type": "code",
      "execution_count": null,
      "metadata": {
        "id": "opMRl4Ok9XHN"
      },
      "outputs": [],
      "source": [
        "### Import necessary Libraries\n",
        "\n",
        "from bs4 import BeautifulSoup\n",
        "import pandas as pd\n",
        "import os\n",
        "from datetime import datetime\n",
        "import requests\n",
        "import csv"
      ]
    },
    {
      "cell_type": "markdown",
      "source": [
        "### Getting the URL\n",
        "\n",
        "Go to indeed, search for a job title, then copy the link up to where location ends"
      ],
      "metadata": {
        "id": "4kdj1sBw15Pn"
      }
    },
    {
      "cell_type": "code",
      "source": [
        "### Assign URL to variable\n",
        "### Sample URL (Url = \"https://www.myjobmag.com/search/jobs?q=Data+analyst&location=Lagos\")\n",
        "\n",
        "template = 'https://www.myjobmag.com/search/jobs?q={}&location={}'"
      ],
      "metadata": {
        "id": "GWQzaYN69w_k"
      },
      "execution_count": null,
      "outputs": []
    },
    {
      "cell_type": "code",
      "source": [
        "def get_url(role, location):\n",
        "  \"\"\"Generate Url for role\"\"\"\n",
        "  template = 'https://www.myjobmag.com/search/jobs?q={}&location={}'\n",
        "  url = template.format(role, location)\n",
        "  return url"
      ],
      "metadata": {
        "id": "s7SBVCTt-EUE"
      },
      "execution_count": null,
      "outputs": []
    },
    {
      "cell_type": "code",
      "source": [
        "url = get_url('Data Analyst', 'lagos')\n",
        "\n",
        "url"
      ],
      "metadata": {
        "colab": {
          "base_uri": "https://localhost:8080/",
          "height": 35
        },
        "id": "OO_ZxzoV0xL9",
        "outputId": "c2a53ca4-152b-4aff-d5a0-74609f52b3e5"
      },
      "execution_count": null,
      "outputs": [
        {
          "output_type": "execute_result",
          "data": {
            "text/plain": [
              "'https://www.myjobmag.com/search/jobs?q=Data Analyst&location=lagos'"
            ],
            "application/vnd.google.colaboratory.intrinsic+json": {
              "type": "string"
            }
          },
          "metadata": {},
          "execution_count": 4
        }
      ]
    },
    {
      "cell_type": "markdown",
      "source": [
        "### Extract raw html"
      ],
      "metadata": {
        "id": "TM46s2eU19QG"
      }
    },
    {
      "cell_type": "code",
      "source": [
        "### Request URL from server\n",
        "response = requests.get(url)"
      ],
      "metadata": {
        "id": "rciGllaZ0GGB"
      },
      "execution_count": null,
      "outputs": []
    },
    {
      "cell_type": "code",
      "source": [
        "### Check response\n",
        "response"
      ],
      "metadata": {
        "colab": {
          "base_uri": "https://localhost:8080/"
        },
        "id": "KyJyUQu52G-w",
        "outputId": "c25784a8-1b9c-4afd-e9e3-6daec5464edc"
      },
      "execution_count": null,
      "outputs": [
        {
          "output_type": "execute_result",
          "data": {
            "text/plain": [
              "<Response [200]>"
            ]
          },
          "metadata": {},
          "execution_count": 6
        }
      ]
    },
    {
      "cell_type": "code",
      "source": [
        "### Reason for response\n",
        "response.reason"
      ],
      "metadata": {
        "colab": {
          "base_uri": "https://localhost:8080/",
          "height": 35
        },
        "id": "5XGytL1Z2QXg",
        "outputId": "569a6151-a521-41ea-f6e4-b7f5ce678036"
      },
      "execution_count": null,
      "outputs": [
        {
          "output_type": "execute_result",
          "data": {
            "text/plain": [
              "'OK'"
            ],
            "application/vnd.google.colaboratory.intrinsic+json": {
              "type": "string"
            }
          },
          "metadata": {},
          "execution_count": 7
        }
      ]
    },
    {
      "cell_type": "code",
      "source": [
        "# Parse the HTML content of the response using BeautifulSoup\n",
        "soup = BeautifulSoup(response.text, 'html.parser')"
      ],
      "metadata": {
        "id": "XSyO5kk72S3t"
      },
      "execution_count": null,
      "outputs": []
    },
    {
      "cell_type": "code",
      "source": [
        "### After investigating the HTML using inspect we can see that\n",
        "### all job titles has a li class container of mag-b\n",
        "\"\"\" Which we would use to find all job titles\"\"\"\n",
        "\n",
        "cards = soup.find_all('li', 'job-info')"
      ],
      "metadata": {
        "id": "sczQjjPF2-BZ"
      },
      "execution_count": null,
      "outputs": []
    },
    {
      "cell_type": "code",
      "source": [
        "### Check the length of the cards\n",
        "\n",
        "len(cards)"
      ],
      "metadata": {
        "colab": {
          "base_uri": "https://localhost:8080/"
        },
        "id": "nq2r3Uw36E3M",
        "outputId": "35db1914-0674-44e8-90e9-d8c5906a209f"
      },
      "execution_count": null,
      "outputs": [
        {
          "output_type": "execute_result",
          "data": {
            "text/plain": [
              "18"
            ]
          },
          "metadata": {},
          "execution_count": 10
        }
      ]
    },
    {
      "cell_type": "markdown",
      "source": [
        "### We can then prototype the model with a single record"
      ],
      "metadata": {
        "id": "FLz6TIhy7Z1O"
      }
    },
    {
      "cell_type": "code",
      "source": [
        "### Get the first element in the job posting page (i.e. the first div element)\n",
        "card = cards[0]\n",
        "card"
      ],
      "metadata": {
        "colab": {
          "base_uri": "https://localhost:8080/"
        },
        "id": "NJ_4i-1W3Pw6",
        "outputId": "457cf881-ba5b-4a95-df53-3a18df0c4d18"
      },
      "execution_count": null,
      "outputs": [
        {
          "output_type": "execute_result",
          "data": {
            "text/plain": [
              "<li class=\"job-info\">\n",
              "<ul>\n",
              "<li class=\"mag-b\">\n",
              "<h2><a href=\"/job/data-analyst-buybeta-investment-limited\">Data Analyst at Buybeta Investment Limited</a></h2>\n",
              "</li>\n",
              "<li class=\"job-desc\">\n",
              "Job Summary\n",
              "The Data Analyst will support the skincare company's data needs by analyzing sales, inventory, and market trends to optimize product availability, streamline operations, and enha </li>\n",
              "<li class=\"job-item\">\n",
              "<ul>\n",
              "<li id=\"job-date\">09 October</li>\n",
              "<li id=\"job-duration\">\n",
              "</li>\n",
              "</ul>\n",
              "</li>\n",
              "</ul>\n",
              "</li>"
            ]
          },
          "metadata": {},
          "execution_count": 11
        }
      ]
    },
    {
      "cell_type": "code",
      "source": [
        "### Get the a tag, which the job title is located\n",
        "atag = card.h2.a\n",
        "atag"
      ],
      "metadata": {
        "colab": {
          "base_uri": "https://localhost:8080/"
        },
        "id": "dgMlEnpc6W9H",
        "outputId": "30f5b42d-9357-4ea6-fea6-42c74d96b57a"
      },
      "execution_count": null,
      "outputs": [
        {
          "output_type": "execute_result",
          "data": {
            "text/plain": [
              "<a href=\"/job/data-analyst-buybeta-investment-limited\">Data Analyst at Buybeta Investment Limited</a>"
            ]
          },
          "metadata": {},
          "execution_count": 12
        }
      ]
    },
    {
      "cell_type": "code",
      "source": [
        "### Extract the job title from the atag\n",
        "job_title = atag.text.split(' at ')[0].strip()\n",
        "job_title"
      ],
      "metadata": {
        "colab": {
          "base_uri": "https://localhost:8080/",
          "height": 35
        },
        "id": "exwbSyoa7hkX",
        "outputId": "8609b1af-b6d9-4f14-9e6b-0a24ad014884"
      },
      "execution_count": null,
      "outputs": [
        {
          "output_type": "execute_result",
          "data": {
            "text/plain": [
              "'Data Analyst'"
            ],
            "application/vnd.google.colaboratory.intrinsic+json": {
              "type": "string"
            }
          },
          "metadata": {},
          "execution_count": 13
        }
      ]
    },
    {
      "cell_type": "code",
      "source": [
        "### Extract the job Url using the href tag and add to the wbesite string\n",
        "job_url = 'https://www.myjobmag.com/' + atag.get('href')\n",
        "job_url"
      ],
      "metadata": {
        "colab": {
          "base_uri": "https://localhost:8080/",
          "height": 35
        },
        "id": "kX_UkMMK7mm_",
        "outputId": "fefa9194-8c20-47a7-a6ce-d9900b3755e4"
      },
      "execution_count": null,
      "outputs": [
        {
          "output_type": "execute_result",
          "data": {
            "text/plain": [
              "'https://www.myjobmag.com//job/data-analyst-buybeta-investment-limited'"
            ],
            "application/vnd.google.colaboratory.intrinsic+json": {
              "type": "string"
            }
          },
          "metadata": {},
          "execution_count": 14
        }
      ]
    },
    {
      "cell_type": "code",
      "source": [
        "### Extract company name\n",
        "company = atag.text.split(' at ')[1].strip()\n",
        "company"
      ],
      "metadata": {
        "colab": {
          "base_uri": "https://localhost:8080/",
          "height": 35
        },
        "id": "9EEVn7aE7rUQ",
        "outputId": "e9ae0c27-a9dc-40ae-913c-46dc0cffd5c9"
      },
      "execution_count": null,
      "outputs": [
        {
          "output_type": "execute_result",
          "data": {
            "text/plain": [
              "'Buybeta Investment Limited'"
            ],
            "application/vnd.google.colaboratory.intrinsic+json": {
              "type": "string"
            }
          },
          "metadata": {},
          "execution_count": 15
        }
      ]
    },
    {
      "cell_type": "code",
      "source": [
        "### Use the li tag to find the description\n",
        "job_description = card.find('li', 'job-desc').text.replace('\\n', '')\n",
        "job_description"
      ],
      "metadata": {
        "colab": {
          "base_uri": "https://localhost:8080/",
          "height": 53
        },
        "id": "ztEQaOB1891w",
        "outputId": "6873a380-3b7c-49d4-e48d-0fd3b37ae698"
      },
      "execution_count": null,
      "outputs": [
        {
          "output_type": "execute_result",
          "data": {
            "text/plain": [
              "\"Job SummaryThe Data Analyst will support the skincare company's data needs by analyzing sales, inventory, and market trends to optimize product availability, streamline operations, and enha \""
            ],
            "application/vnd.google.colaboratory.intrinsic+json": {
              "type": "string"
            }
          },
          "metadata": {},
          "execution_count": 16
        }
      ]
    },
    {
      "cell_type": "code",
      "source": [
        "### Use the li id=\"job-date\" to find the date job was posted\n",
        "post_date = card.find('li', id='job-date').text\n",
        "post_date"
      ],
      "metadata": {
        "colab": {
          "base_uri": "https://localhost:8080/",
          "height": 35
        },
        "id": "-60bze9e-RpQ",
        "outputId": "b75b17c7-9d44-4d52-8d87-ecfd5c69826e"
      },
      "execution_count": null,
      "outputs": [
        {
          "output_type": "execute_result",
          "data": {
            "text/plain": [
              "'09 October'"
            ],
            "application/vnd.google.colaboratory.intrinsic+json": {
              "type": "string"
            }
          },
          "metadata": {},
          "execution_count": 17
        }
      ]
    },
    {
      "cell_type": "code",
      "source": [
        "### Get current date to check when scrapping was done\n",
        "today = datetime.today().strftime('%Y-%m-%d')\n",
        "today"
      ],
      "metadata": {
        "colab": {
          "base_uri": "https://localhost:8080/",
          "height": 35
        },
        "id": "TF_nB5sH_Rcx",
        "outputId": "5bf60f3f-92c5-423d-eb0f-020fbec60134"
      },
      "execution_count": null,
      "outputs": [
        {
          "output_type": "execute_result",
          "data": {
            "text/plain": [
              "'2024-10-15'"
            ],
            "application/vnd.google.colaboratory.intrinsic+json": {
              "type": "string"
            }
          },
          "metadata": {},
          "execution_count": 18
        }
      ]
    },
    {
      "cell_type": "markdown",
      "source": [
        "### Putting everything together into a model with a function"
      ],
      "metadata": {
        "id": "-mezKPqPA0Y8"
      }
    },
    {
      "cell_type": "code",
      "source": [
        "### Put all gotten values into a function to add it as a list\n",
        "\n",
        "def get_record(card):\n",
        "  \"\"\"Extraxt job data from a single record\"\"\"\n",
        "  atag = card.h2.a\n",
        "  job_title = atag.text.split(' at ')[0].strip()\n",
        "  job_url = 'https://www.myjobmag.com/' + atag.get('href')\n",
        "  company = atag.text.split(' at ')[1].strip()\n",
        "  job_description = card.find('li', 'job-desc').text.replace('\\n', '')\n",
        "  post_date = card.find('li', id='job-date').text\n",
        "  today = datetime.today().strftime('%Y-%m-%d')\n",
        "\n",
        "  record = (job_title, job_url, company, job_description, post_date, today)\n",
        "\n",
        "  return record"
      ],
      "metadata": {
        "id": "7yAlT3UKA0CU"
      },
      "execution_count": null,
      "outputs": []
    },
    {
      "cell_type": "code",
      "source": [
        "### Create an empty list\n",
        "records = []\n",
        "\n",
        "### then iterate through site using the cards\n",
        "for card in cards:\n",
        "  record = get_record(card)\n",
        "  records.append(record)"
      ],
      "metadata": {
        "id": "cc_5bS-0AwGS"
      },
      "execution_count": null,
      "outputs": []
    },
    {
      "cell_type": "code",
      "source": [
        "records[0]"
      ],
      "metadata": {
        "colab": {
          "base_uri": "https://localhost:8080/"
        },
        "id": "bqs8X-fAAqSK",
        "outputId": "5affa395-19a8-45e4-b05a-ae7ab7d1be20"
      },
      "execution_count": null,
      "outputs": [
        {
          "output_type": "execute_result",
          "data": {
            "text/plain": [
              "('Data Analyst',\n",
              " 'https://www.myjobmag.com//job/data-analyst-buybeta-investment-limited',\n",
              " 'Buybeta Investment Limited',\n",
              " \"Job SummaryThe Data Analyst will support the skincare company's data needs by analyzing sales, inventory, and market trends to optimize product availability, streamline operations, and enha \",\n",
              " '09 October',\n",
              " '2024-10-15')"
            ]
          },
          "metadata": {},
          "execution_count": 21
        }
      ]
    },
    {
      "cell_type": "code",
      "source": [
        "soup.find('ul', 'setPaginate')"
      ],
      "metadata": {
        "colab": {
          "base_uri": "https://localhost:8080/"
        },
        "id": "al4g-yrSwnZc",
        "outputId": "d5cf1749-e3d5-4677-b1ba-4cdb2dfa7724"
      },
      "execution_count": null,
      "outputs": [
        {
          "output_type": "execute_result",
          "data": {
            "text/plain": [
              "<ul class=\"setPaginate\"><li><a class=\"current_page\">1</a></li><li><a href=\"/search/jobs?q=Data%20Analyst&amp;location=lagos¤tpage=2\">2</a></li><li><a href=\"/search/jobs?q=Data%20Analyst&amp;location=lagos¤tpage=3\">3</a></li><li><a href=\"/search/jobs?q=Data%20Analyst&amp;location=lagos¤tpage=4\">4</a></li><li><a href=\"/search/jobs?q=Data%20Analyst&amp;location=lagos¤tpage=5\">5</a></li></ul>"
            ]
          },
          "metadata": {},
          "execution_count": 22
        }
      ]
    },
    {
      "cell_type": "code",
      "source": [
        "url = 'https://www.myjobmag.com' + soup.find('ul', 'setPaginate').find('a', 'current_page').parent.find_next_sibling('li').a.get('href').replace('lagos¤tpage', 'lagos&currentpage')\n",
        "url"
      ],
      "metadata": {
        "colab": {
          "base_uri": "https://localhost:8080/",
          "height": 35
        },
        "id": "1gF2-F3Oxqug",
        "outputId": "6f63436b-8ce4-4ee4-84fb-a7c443cb1fcf"
      },
      "execution_count": null,
      "outputs": [
        {
          "output_type": "execute_result",
          "data": {
            "text/plain": [
              "'https://www.myjobmag.com/search/jobs?q=Data%20Analyst&location=lagos&currentpage=2'"
            ],
            "application/vnd.google.colaboratory.intrinsic+json": {
              "type": "string"
            }
          },
          "metadata": {},
          "execution_count": 23
        }
      ]
    },
    {
      "cell_type": "markdown",
      "source": [
        "\n",
        "### Getting to the next page\n",
        "\n",
        "The model we have created previously was for getting details on only the first page.\n",
        "We now have to create a model on how to get to the next page\n",
        "\n",
        "- Frist we get the href for next page\n",
        "- Then we itirate through each page\n",
        "- Then use records to get each page details"
      ],
      "metadata": {
        "id": "D8-jvd8MDMmB"
      }
    },
    {
      "cell_type": "code",
      "source": [
        "### trying to get pages\n",
        "\n",
        "while True:\n",
        "  try:\n",
        "    url = 'https://www.myjobmag.com' + soup.find('ul', 'setPaginate').find('a', 'current_page').parent.find_next_sibling('li').a.get('href').replace('lagos¤tpage', 'lagos&currentpage')\n",
        "  except AttributeError:\n",
        "    break\n",
        "  response = requests.get(url)\n",
        "  soup = BeautifulSoup(response.text, 'html.parser')\n",
        "  cards = soup.find_all('li', 'job-info')\n",
        "\n",
        "  for card in cards:\n",
        "    record = get_record(card)\n",
        "    records.append(record)\n",
        "\n",
        "    # Check if we have reached the last page\n",
        "    if not url:\n",
        "        break"
      ],
      "metadata": {
        "id": "ta5l4vZT-oia"
      },
      "execution_count": null,
      "outputs": []
    },
    {
      "cell_type": "code",
      "source": [
        "len(records)"
      ],
      "metadata": {
        "colab": {
          "base_uri": "https://localhost:8080/"
        },
        "id": "fsjYH4UVBzI0",
        "outputId": "f812b0c6-b714-44ef-a35a-c87f27f00d2a"
      },
      "execution_count": null,
      "outputs": [
        {
          "output_type": "execute_result",
          "data": {
            "text/plain": [
              "1054"
            ]
          },
          "metadata": {},
          "execution_count": 25
        }
      ]
    },
    {
      "cell_type": "markdown",
      "source": [
        "### Putting it all together"
      ],
      "metadata": {
        "id": "m5e2OCWlnU79"
      }
    },
    {
      "cell_type": "code",
      "source": [
        "import csv\n",
        "import pandas as pd\n",
        "from datetime import datetime\n",
        "import requests\n",
        "from bs4 import BeautifulSoup\n",
        "import os\n",
        "import re\n",
        "\n",
        "def get_url(role, location):\n",
        "    \"\"\"Generate Url for role\"\"\"\n",
        "    template = 'https://www.myjobmag.com/search/jobs?q={}&location={}'\n",
        "    url = template.format(role, location)\n",
        "    return url\n",
        "\n",
        "def get_record(card):\n",
        "    \"\"\"Extract job data from a single record\"\"\"\n",
        "    atag = card.h2.a\n",
        "    job_title = atag.text.split(' at ')[0].strip()\n",
        "    job_url = 'https://www.myjobmag.com/' + atag.get('href')\n",
        "    company = atag.text.split(' at ')[1].strip()\n",
        "    job_description = card.find('li', 'job-desc').text.replace('\\n', '')\n",
        "    post_date = card.find('li', id='job-date').text\n",
        "    today = datetime.today().strftime('%Y-%m-%d')\n",
        "    record = (job_title, job_url, company, job_description, post_date, today)\n",
        "    return record\n",
        "\n",
        "def main(role, location):\n",
        "    \"\"\"Run the main program routine\"\"\"\n",
        "    records = []\n",
        "    url = get_url(role, location)\n",
        "\n",
        "    while True:\n",
        "        response = requests.get(url)\n",
        "        soup = BeautifulSoup(response.text, 'html.parser')\n",
        "        cards = soup.find_all('li', 'job-info')\n",
        "\n",
        "        for card in cards:\n",
        "            record = get_record(card)\n",
        "            records.append(record)\n",
        "\n",
        "        try:\n",
        "            url = 'https://www.myjobmag.com' + soup.find('ul', 'setPaginate').find('a', 'current_page').parent.find_next_sibling('li').a.get('href').replace('lagos¤tpage', 'lagos&currentpage')\n",
        "        except AttributeError:\n",
        "            break\n",
        "\n",
        "    # Create a DataFrame from the list of records\n",
        "    df = pd.DataFrame(records, columns=['job_title', 'job_url', 'company', 'job_description', 'post_date', 'scrap_date'])\n",
        "\n",
        "    # Check if the CSV file already exists\n",
        "    if os.path.exists('jobs_listing_data_analyst_151024.csv'):\n",
        "        # Load the existing DataFrame from the CSV file\n",
        "        existing_df = pd.read_csv('jobs_listing_data_analyst_151024.csv')\n",
        "        # Concatenate the existing DataFrame with the new DataFrame\n",
        "        df = pd.concat([existing_df, df], ignore_index=True)\n",
        "        # Remove duplicate rows\n",
        "        df = df.drop_duplicates()\n",
        "\n",
        "    # Save DataFrame to CSV file\n",
        "    df.to_csv('jobs_listing_data_analyst_151024.csv', index=False)"
      ],
      "metadata": {
        "id": "CVfRdcO-vg5t"
      },
      "execution_count": 52,
      "outputs": []
    },
    {
      "cell_type": "code",
      "source": [
        "def get_alphabetic_input(prompt):\n",
        "    \"\"\"Get user input and ensure it contains only alphabetic characters and spaces\"\"\"\n",
        "    while True:\n",
        "        user_input = input(prompt)\n",
        "        if re.match(r'^[a-zA-Z\\s]+$', user_input):\n",
        "            return user_input\n",
        "        else:\n",
        "            print(\"Please enter only alphabetic characters and spaces.\")\n",
        "\n",
        "# Run the main program\n",
        "if __name__ == \"__main__\":\n",
        "    job_title = get_alphabetic_input(\"Enter the job title (e.g., data analyst): \")\n",
        "    location = get_alphabetic_input(\"Enter the location (e.g., lagos): \")\n",
        "    main(job_title, location)"
      ],
      "metadata": {
        "colab": {
          "base_uri": "https://localhost:8080/"
        },
        "id": "V5oTAMyuziDA",
        "outputId": "f7446780-76fe-4d82-bd5b-14a7521831b3"
      },
      "execution_count": 53,
      "outputs": [
        {
          "name": "stdout",
          "output_type": "stream",
          "text": [
            "Enter the job title (e.g., data analyst): data analyst\n",
            "Enter the location (e.g., lagos): lagos\n"
          ]
        }
      ]
    },
    {
      "cell_type": "code",
      "source": [
        "### Read the csv created data\n",
        "jobs_listing_data = pd.read_csv('jobs_listing_data_analyst_151024.csv')\n",
        "jobs_listing_data.tail()"
      ],
      "metadata": {
        "colab": {
          "base_uri": "https://localhost:8080/",
          "height": 206
        },
        "id": "DBfcrxuwqDRF",
        "outputId": "79abf92d-0d67-46dc-c065-13153d4f1115"
      },
      "execution_count": 54,
      "outputs": [
        {
          "output_type": "execute_result",
          "data": {
            "text/plain": [
              "                        job_title  \\\n",
              "1048             Planning Analyst   \n",
              "1049  Risk and Collection Analyst   \n",
              "1050          Credit Risk Analyst   \n",
              "1051                Legal Analyst   \n",
              "1052    Corporate Finance Analyst   \n",
              "\n",
              "                                                job_url  \\\n",
              "1048  https://www.myjobmag.com//job/planning-analyst...   \n",
              "1049  https://www.myjobmag.com//job/risk-and-collect...   \n",
              "1050  https://www.myjobmag.com//job/credit-risk-anal...   \n",
              "1051  https://www.myjobmag.com//job/legal-analyst-rs...   \n",
              "1052  https://www.myjobmag.com//job/corporate-financ...   \n",
              "\n",
              "                                 company  \\\n",
              "1048  Hobark International Limited (HIL)   \n",
              "1049                       HRD Solutions   \n",
              "1050                           Coolbucks   \n",
              "1051                   RS Hunter Limited   \n",
              "1052                   RS Hunter Limited   \n",
              "\n",
              "                                        job_description post_date  scrap_date  \n",
              "1048  Job DescriptionBudgeting and Forecasting: Supp...  16 April  2024-10-15  \n",
              "1049  Job DescriptionAs a Risk and Collection Analys...  15 April  2024-10-15  \n",
              "1050  Role DescriptionThis is a full-time on-site ro...  15 April  2024-10-15  \n",
              "1051  Interested and qualified candidates should apply   15 April  2024-10-15  \n",
              "1052  Interested and qualified candidates should apply   15 April  2024-10-15  "
            ],
            "text/html": [
              "\n",
              "  <div id=\"df-b9314abb-c11f-4bb1-a350-c95b1aa9d1c8\" class=\"colab-df-container\">\n",
              "    <div>\n",
              "<style scoped>\n",
              "    .dataframe tbody tr th:only-of-type {\n",
              "        vertical-align: middle;\n",
              "    }\n",
              "\n",
              "    .dataframe tbody tr th {\n",
              "        vertical-align: top;\n",
              "    }\n",
              "\n",
              "    .dataframe thead th {\n",
              "        text-align: right;\n",
              "    }\n",
              "</style>\n",
              "<table border=\"1\" class=\"dataframe\">\n",
              "  <thead>\n",
              "    <tr style=\"text-align: right;\">\n",
              "      <th></th>\n",
              "      <th>job_title</th>\n",
              "      <th>job_url</th>\n",
              "      <th>company</th>\n",
              "      <th>job_description</th>\n",
              "      <th>post_date</th>\n",
              "      <th>scrap_date</th>\n",
              "    </tr>\n",
              "  </thead>\n",
              "  <tbody>\n",
              "    <tr>\n",
              "      <th>1048</th>\n",
              "      <td>Planning Analyst</td>\n",
              "      <td>https://www.myjobmag.com//job/planning-analyst...</td>\n",
              "      <td>Hobark International Limited (HIL)</td>\n",
              "      <td>Job DescriptionBudgeting and Forecasting: Supp...</td>\n",
              "      <td>16 April</td>\n",
              "      <td>2024-10-15</td>\n",
              "    </tr>\n",
              "    <tr>\n",
              "      <th>1049</th>\n",
              "      <td>Risk and Collection Analyst</td>\n",
              "      <td>https://www.myjobmag.com//job/risk-and-collect...</td>\n",
              "      <td>HRD Solutions</td>\n",
              "      <td>Job DescriptionAs a Risk and Collection Analys...</td>\n",
              "      <td>15 April</td>\n",
              "      <td>2024-10-15</td>\n",
              "    </tr>\n",
              "    <tr>\n",
              "      <th>1050</th>\n",
              "      <td>Credit Risk Analyst</td>\n",
              "      <td>https://www.myjobmag.com//job/credit-risk-anal...</td>\n",
              "      <td>Coolbucks</td>\n",
              "      <td>Role DescriptionThis is a full-time on-site ro...</td>\n",
              "      <td>15 April</td>\n",
              "      <td>2024-10-15</td>\n",
              "    </tr>\n",
              "    <tr>\n",
              "      <th>1051</th>\n",
              "      <td>Legal Analyst</td>\n",
              "      <td>https://www.myjobmag.com//job/legal-analyst-rs...</td>\n",
              "      <td>RS Hunter Limited</td>\n",
              "      <td>Interested and qualified candidates should apply</td>\n",
              "      <td>15 April</td>\n",
              "      <td>2024-10-15</td>\n",
              "    </tr>\n",
              "    <tr>\n",
              "      <th>1052</th>\n",
              "      <td>Corporate Finance Analyst</td>\n",
              "      <td>https://www.myjobmag.com//job/corporate-financ...</td>\n",
              "      <td>RS Hunter Limited</td>\n",
              "      <td>Interested and qualified candidates should apply</td>\n",
              "      <td>15 April</td>\n",
              "      <td>2024-10-15</td>\n",
              "    </tr>\n",
              "  </tbody>\n",
              "</table>\n",
              "</div>\n",
              "    <div class=\"colab-df-buttons\">\n",
              "\n",
              "  <div class=\"colab-df-container\">\n",
              "    <button class=\"colab-df-convert\" onclick=\"convertToInteractive('df-b9314abb-c11f-4bb1-a350-c95b1aa9d1c8')\"\n",
              "            title=\"Convert this dataframe to an interactive table.\"\n",
              "            style=\"display:none;\">\n",
              "\n",
              "  <svg xmlns=\"http://www.w3.org/2000/svg\" height=\"24px\" viewBox=\"0 -960 960 960\">\n",
              "    <path d=\"M120-120v-720h720v720H120Zm60-500h600v-160H180v160Zm220 220h160v-160H400v160Zm0 220h160v-160H400v160ZM180-400h160v-160H180v160Zm440 0h160v-160H620v160ZM180-180h160v-160H180v160Zm440 0h160v-160H620v160Z\"/>\n",
              "  </svg>\n",
              "    </button>\n",
              "\n",
              "  <style>\n",
              "    .colab-df-container {\n",
              "      display:flex;\n",
              "      gap: 12px;\n",
              "    }\n",
              "\n",
              "    .colab-df-convert {\n",
              "      background-color: #E8F0FE;\n",
              "      border: none;\n",
              "      border-radius: 50%;\n",
              "      cursor: pointer;\n",
              "      display: none;\n",
              "      fill: #1967D2;\n",
              "      height: 32px;\n",
              "      padding: 0 0 0 0;\n",
              "      width: 32px;\n",
              "    }\n",
              "\n",
              "    .colab-df-convert:hover {\n",
              "      background-color: #E2EBFA;\n",
              "      box-shadow: 0px 1px 2px rgba(60, 64, 67, 0.3), 0px 1px 3px 1px rgba(60, 64, 67, 0.15);\n",
              "      fill: #174EA6;\n",
              "    }\n",
              "\n",
              "    .colab-df-buttons div {\n",
              "      margin-bottom: 4px;\n",
              "    }\n",
              "\n",
              "    [theme=dark] .colab-df-convert {\n",
              "      background-color: #3B4455;\n",
              "      fill: #D2E3FC;\n",
              "    }\n",
              "\n",
              "    [theme=dark] .colab-df-convert:hover {\n",
              "      background-color: #434B5C;\n",
              "      box-shadow: 0px 1px 3px 1px rgba(0, 0, 0, 0.15);\n",
              "      filter: drop-shadow(0px 1px 2px rgba(0, 0, 0, 0.3));\n",
              "      fill: #FFFFFF;\n",
              "    }\n",
              "  </style>\n",
              "\n",
              "    <script>\n",
              "      const buttonEl =\n",
              "        document.querySelector('#df-b9314abb-c11f-4bb1-a350-c95b1aa9d1c8 button.colab-df-convert');\n",
              "      buttonEl.style.display =\n",
              "        google.colab.kernel.accessAllowed ? 'block' : 'none';\n",
              "\n",
              "      async function convertToInteractive(key) {\n",
              "        const element = document.querySelector('#df-b9314abb-c11f-4bb1-a350-c95b1aa9d1c8');\n",
              "        const dataTable =\n",
              "          await google.colab.kernel.invokeFunction('convertToInteractive',\n",
              "                                                    [key], {});\n",
              "        if (!dataTable) return;\n",
              "\n",
              "        const docLinkHtml = 'Like what you see? Visit the ' +\n",
              "          '<a target=\"_blank\" href=https://colab.research.google.com/notebooks/data_table.ipynb>data table notebook</a>'\n",
              "          + ' to learn more about interactive tables.';\n",
              "        element.innerHTML = '';\n",
              "        dataTable['output_type'] = 'display_data';\n",
              "        await google.colab.output.renderOutput(dataTable, element);\n",
              "        const docLink = document.createElement('div');\n",
              "        docLink.innerHTML = docLinkHtml;\n",
              "        element.appendChild(docLink);\n",
              "      }\n",
              "    </script>\n",
              "  </div>\n",
              "\n",
              "\n",
              "<div id=\"df-69e9cb36-bbea-43ca-be1f-869e3543a2da\">\n",
              "  <button class=\"colab-df-quickchart\" onclick=\"quickchart('df-69e9cb36-bbea-43ca-be1f-869e3543a2da')\"\n",
              "            title=\"Suggest charts\"\n",
              "            style=\"display:none;\">\n",
              "\n",
              "<svg xmlns=\"http://www.w3.org/2000/svg\" height=\"24px\"viewBox=\"0 0 24 24\"\n",
              "     width=\"24px\">\n",
              "    <g>\n",
              "        <path d=\"M19 3H5c-1.1 0-2 .9-2 2v14c0 1.1.9 2 2 2h14c1.1 0 2-.9 2-2V5c0-1.1-.9-2-2-2zM9 17H7v-7h2v7zm4 0h-2V7h2v10zm4 0h-2v-4h2v4z\"/>\n",
              "    </g>\n",
              "</svg>\n",
              "  </button>\n",
              "\n",
              "<style>\n",
              "  .colab-df-quickchart {\n",
              "      --bg-color: #E8F0FE;\n",
              "      --fill-color: #1967D2;\n",
              "      --hover-bg-color: #E2EBFA;\n",
              "      --hover-fill-color: #174EA6;\n",
              "      --disabled-fill-color: #AAA;\n",
              "      --disabled-bg-color: #DDD;\n",
              "  }\n",
              "\n",
              "  [theme=dark] .colab-df-quickchart {\n",
              "      --bg-color: #3B4455;\n",
              "      --fill-color: #D2E3FC;\n",
              "      --hover-bg-color: #434B5C;\n",
              "      --hover-fill-color: #FFFFFF;\n",
              "      --disabled-bg-color: #3B4455;\n",
              "      --disabled-fill-color: #666;\n",
              "  }\n",
              "\n",
              "  .colab-df-quickchart {\n",
              "    background-color: var(--bg-color);\n",
              "    border: none;\n",
              "    border-radius: 50%;\n",
              "    cursor: pointer;\n",
              "    display: none;\n",
              "    fill: var(--fill-color);\n",
              "    height: 32px;\n",
              "    padding: 0;\n",
              "    width: 32px;\n",
              "  }\n",
              "\n",
              "  .colab-df-quickchart:hover {\n",
              "    background-color: var(--hover-bg-color);\n",
              "    box-shadow: 0 1px 2px rgba(60, 64, 67, 0.3), 0 1px 3px 1px rgba(60, 64, 67, 0.15);\n",
              "    fill: var(--button-hover-fill-color);\n",
              "  }\n",
              "\n",
              "  .colab-df-quickchart-complete:disabled,\n",
              "  .colab-df-quickchart-complete:disabled:hover {\n",
              "    background-color: var(--disabled-bg-color);\n",
              "    fill: var(--disabled-fill-color);\n",
              "    box-shadow: none;\n",
              "  }\n",
              "\n",
              "  .colab-df-spinner {\n",
              "    border: 2px solid var(--fill-color);\n",
              "    border-color: transparent;\n",
              "    border-bottom-color: var(--fill-color);\n",
              "    animation:\n",
              "      spin 1s steps(1) infinite;\n",
              "  }\n",
              "\n",
              "  @keyframes spin {\n",
              "    0% {\n",
              "      border-color: transparent;\n",
              "      border-bottom-color: var(--fill-color);\n",
              "      border-left-color: var(--fill-color);\n",
              "    }\n",
              "    20% {\n",
              "      border-color: transparent;\n",
              "      border-left-color: var(--fill-color);\n",
              "      border-top-color: var(--fill-color);\n",
              "    }\n",
              "    30% {\n",
              "      border-color: transparent;\n",
              "      border-left-color: var(--fill-color);\n",
              "      border-top-color: var(--fill-color);\n",
              "      border-right-color: var(--fill-color);\n",
              "    }\n",
              "    40% {\n",
              "      border-color: transparent;\n",
              "      border-right-color: var(--fill-color);\n",
              "      border-top-color: var(--fill-color);\n",
              "    }\n",
              "    60% {\n",
              "      border-color: transparent;\n",
              "      border-right-color: var(--fill-color);\n",
              "    }\n",
              "    80% {\n",
              "      border-color: transparent;\n",
              "      border-right-color: var(--fill-color);\n",
              "      border-bottom-color: var(--fill-color);\n",
              "    }\n",
              "    90% {\n",
              "      border-color: transparent;\n",
              "      border-bottom-color: var(--fill-color);\n",
              "    }\n",
              "  }\n",
              "</style>\n",
              "\n",
              "  <script>\n",
              "    async function quickchart(key) {\n",
              "      const quickchartButtonEl =\n",
              "        document.querySelector('#' + key + ' button');\n",
              "      quickchartButtonEl.disabled = true;  // To prevent multiple clicks.\n",
              "      quickchartButtonEl.classList.add('colab-df-spinner');\n",
              "      try {\n",
              "        const charts = await google.colab.kernel.invokeFunction(\n",
              "            'suggestCharts', [key], {});\n",
              "      } catch (error) {\n",
              "        console.error('Error during call to suggestCharts:', error);\n",
              "      }\n",
              "      quickchartButtonEl.classList.remove('colab-df-spinner');\n",
              "      quickchartButtonEl.classList.add('colab-df-quickchart-complete');\n",
              "    }\n",
              "    (() => {\n",
              "      let quickchartButtonEl =\n",
              "        document.querySelector('#df-69e9cb36-bbea-43ca-be1f-869e3543a2da button');\n",
              "      quickchartButtonEl.style.display =\n",
              "        google.colab.kernel.accessAllowed ? 'block' : 'none';\n",
              "    })();\n",
              "  </script>\n",
              "</div>\n",
              "\n",
              "    </div>\n",
              "  </div>\n"
            ],
            "application/vnd.google.colaboratory.intrinsic+json": {
              "type": "dataframe",
              "repr_error": "0"
            }
          },
          "metadata": {},
          "execution_count": 54
        }
      ]
    },
    {
      "cell_type": "code",
      "source": [],
      "metadata": {
        "id": "rOOJAR8onir_"
      },
      "execution_count": null,
      "outputs": []
    }
  ]
}