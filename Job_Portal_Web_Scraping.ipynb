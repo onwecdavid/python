{
  "nbformat": 4,
  "nbformat_minor": 0,
  "metadata": {
    "colab": {
      "provenance": []
    },
    "kernelspec": {
      "name": "python3",
      "display_name": "Python 3"
    },
    "language_info": {
      "name": "python"
    }
  },
  "cells": [
    {
      "cell_type": "markdown",
      "source": [
        "# Overview\n",
        "\n",
        "**Project Scenario**\n",
        "\n",
        "The team at the recruitment agency is trying to improve its sourcing of job vacancies. To do this the agency relies on multiple job posting sites to identify potential job openings for its clients. However, manually searching through each site is time-consuming and often leads to missed opportunities.  \n",
        "\n",
        "We would  analyze the data using web scraping tools that can automatically extract job posting data from multiple job posting sites.  The team will use the analysis to provide a more efficient way to provide job vacancies to better serve its clients. This feature will help the recruitment agency by getting relevant openings to their clients more quickly, giving their clients a competitive advantage over other applicants.\n",
        "\n",
        "**Project Objectives**\n",
        "\n",
        "- Increase the efficiency of job vacancy sourcing\n",
        "\n",
        "- Improve the quality of job vacancy sourcing  \n",
        "\n",
        "- Gain a competitive advantage\n",
        "\n",
        "\n",
        "\n",
        "**The task** will be to conduct a web scraping data analysis to automatically extract job posting data from a job posting site. To do this, an environment would be set up, identify the job posting site, scrape the data,  process, analyze, and visualize the data."
      ],
      "metadata": {
        "id": "4iGONxtCsH0g"
      }
    },
    {
      "cell_type": "markdown",
      "source": [
        "### The site to be used in our web scrapping is shine.com\n",
        "\n",
        "We would create a general purpose job scraper for [www.shine.com](https://www.shine.com)"
      ],
      "metadata": {
        "id": "sYIvnQkxtFgO"
      }
    },
    {
      "cell_type": "markdown",
      "source": [
        "### Importing the important libraries to be used"
      ],
      "metadata": {
        "id": "9II-T7hNvONE"
      }
    },
    {
      "cell_type": "code",
      "source": [
        "import csv\n",
        "import pandas as pd\n",
        "from datetime import datetime\n",
        "import requests\n",
        "from bs4 import BeautifulSoup"
      ],
      "metadata": {
        "id": "eSZWxGFvTAjK"
      },
      "execution_count": 181,
      "outputs": []
    },
    {
      "cell_type": "markdown",
      "source": [
        "### Connect to Google Drive"
      ],
      "metadata": {
        "id": "5nv2Axt_42Uj"
      }
    },
    {
      "cell_type": "code",
      "source": [
        "from google.colab import drive\n",
        "\n",
        "# Mount Google Drive\n",
        "drive.mount('/content/drive')"
      ],
      "metadata": {
        "colab": {
          "base_uri": "https://localhost:8080/"
        },
        "id": "0t0unpQU477d",
        "outputId": "ff39a327-30d9-4c59-9923-20bb967f0f66"
      },
      "execution_count": 182,
      "outputs": [
        {
          "output_type": "stream",
          "name": "stdout",
          "text": [
            "Drive already mounted at /content/drive; to attempt to forcibly remount, call drive.mount(\"/content/drive\", force_remount=True).\n"
          ]
        }
      ]
    },
    {
      "cell_type": "markdown",
      "source": [
        "### Getting the URL\n",
        "\n",
        "Go to indeed, search for a job title, then copy the link up to where location ends"
      ],
      "metadata": {
        "id": "_V4wqhk8vZRM"
      }
    },
    {
      "cell_type": "code",
      "source": [
        "## Assign the url to a variable\n",
        "### Replace the job query i.e. q=[job title] with {} and also the location\n",
        "\n",
        "template = 'https://www.shine.com/job-search/{}-jobs-in-{}?q={}&loc={}'"
      ],
      "metadata": {
        "id": "l-XtNaIquBu2"
      },
      "execution_count": 183,
      "outputs": []
    },
    {
      "cell_type": "code",
      "source": [
        "def get_url(position, location):\n",
        "    \"\"\"Generate a URL from position and location\"\"\"\n",
        "    template = 'https://www.shine.com/job-search/{}-jobs-in-{}?q={}&loc={}'\n",
        "    url = template.format(position, location, position, location)\n",
        "    return url"
      ],
      "metadata": {
        "id": "YUl2hIP3vxPa"
      },
      "execution_count": 184,
      "outputs": []
    },
    {
      "cell_type": "code",
      "source": [
        "url = get_url('Big Data Analyst', 'Bangalore')"
      ],
      "metadata": {
        "id": "fJKIp6EvyMWI"
      },
      "execution_count": 185,
      "outputs": []
    },
    {
      "cell_type": "markdown",
      "source": [
        "### Extract raw html"
      ],
      "metadata": {
        "id": "vn1MS6Qoy81U"
      }
    },
    {
      "cell_type": "code",
      "source": [
        "### Request URL from server\n",
        "response = requests.get(url)"
      ],
      "metadata": {
        "id": "m8S6RxwLy52r"
      },
      "execution_count": 186,
      "outputs": []
    },
    {
      "cell_type": "code",
      "source": [
        "### Check response\n",
        "response"
      ],
      "metadata": {
        "colab": {
          "base_uri": "https://localhost:8080/"
        },
        "id": "S3rLoQ0KzJaZ",
        "outputId": "a31ce85e-27b6-41d3-a2e2-c3e742f1e599"
      },
      "execution_count": 187,
      "outputs": [
        {
          "output_type": "execute_result",
          "data": {
            "text/plain": [
              "<Response [200]>"
            ]
          },
          "metadata": {},
          "execution_count": 187
        }
      ]
    },
    {
      "cell_type": "code",
      "source": [
        "### Reason for response\n",
        "response.reason"
      ],
      "metadata": {
        "colab": {
          "base_uri": "https://localhost:8080/",
          "height": 35
        },
        "id": "3DKjjgxozK3F",
        "outputId": "5f9bb7be-efc1-4d15-c8a2-b44f5a9238db"
      },
      "execution_count": 188,
      "outputs": [
        {
          "output_type": "execute_result",
          "data": {
            "text/plain": [
              "'OK'"
            ],
            "application/vnd.google.colaboratory.intrinsic+json": {
              "type": "string"
            }
          },
          "metadata": {},
          "execution_count": 188
        }
      ]
    },
    {
      "cell_type": "code",
      "source": [
        "# Parse the HTML content of the response using BeautifulSoup\n",
        "soup = BeautifulSoup(response.text, 'html.parser')"
      ],
      "metadata": {
        "id": "iyXgZGyn07C5"
      },
      "execution_count": 189,
      "outputs": []
    },
    {
      "cell_type": "code",
      "source": [
        "### After investigating the HTML using inspect we can see that\n",
        "### all job titles has a div class container of jobCard_jobCard__jjUmu\n",
        "\"\"\" Which we would use to find all job titles\"\"\"\n",
        "\n",
        "cards = soup.find_all('div', 'jobCard_jobCard__jjUmu')"
      ],
      "metadata": {
        "id": "pGpi55Im8xf_"
      },
      "execution_count": 190,
      "outputs": []
    },
    {
      "cell_type": "code",
      "source": [
        "len(cards)"
      ],
      "metadata": {
        "colab": {
          "base_uri": "https://localhost:8080/"
        },
        "id": "NyKfoIAH9nnV",
        "outputId": "a56d908e-df6c-42ce-d24b-3ce74a0197b1"
      },
      "execution_count": 191,
      "outputs": [
        {
          "output_type": "execute_result",
          "data": {
            "text/plain": [
              "15"
            ]
          },
          "metadata": {},
          "execution_count": 191
        }
      ]
    },
    {
      "cell_type": "markdown",
      "source": [
        "### We can then prototype the model with a single record"
      ],
      "metadata": {
        "id": "h3zu2AkUTILU"
      }
    },
    {
      "cell_type": "code",
      "source": [
        "### Get the first element in the job posting page (i.e. the first div element)\n",
        "card = cards[0]"
      ],
      "metadata": {
        "id": "gtrWTrD99p2k"
      },
      "execution_count": 192,
      "outputs": []
    },
    {
      "cell_type": "code",
      "source": [
        "### Get the a tag, which the job title is located\n",
        "atag = card.h2.a\n",
        "atag"
      ],
      "metadata": {
        "colab": {
          "base_uri": "https://localhost:8080/"
        },
        "id": "JdRYSDRCUMMP",
        "outputId": "0ba5594d-2fd0-4600-f8ea-c00da8289c05"
      },
      "execution_count": 193,
      "outputs": [
        {
          "output_type": "execute_result",
          "data": {
            "text/plain": [
              "<a href=\"/jobs/data-analyst-permanent/diraa-hr-services/14054678\">Data Analyst</a>"
            ]
          },
          "metadata": {},
          "execution_count": 193
        }
      ]
    },
    {
      "cell_type": "code",
      "source": [
        "### Extract the job title from the atag\n",
        "job_title = atag.text\n",
        "job_title"
      ],
      "metadata": {
        "colab": {
          "base_uri": "https://localhost:8080/",
          "height": 35
        },
        "id": "NSDmC8aKUejk",
        "outputId": "5d94f22d-2753-4ef7-abd4-4333abb80dee"
      },
      "execution_count": 194,
      "outputs": [
        {
          "output_type": "execute_result",
          "data": {
            "text/plain": [
              "'Data Analyst'"
            ],
            "application/vnd.google.colaboratory.intrinsic+json": {
              "type": "string"
            }
          },
          "metadata": {},
          "execution_count": 194
        }
      ]
    },
    {
      "cell_type": "code",
      "source": [
        "### Extract the job Url using the href tag and add to the wbesite string\n",
        "job_url = 'https://www.shine.com' + atag.get('href')\n",
        "job_url"
      ],
      "metadata": {
        "colab": {
          "base_uri": "https://localhost:8080/",
          "height": 35
        },
        "id": "BUQ4-CWZUhyR",
        "outputId": "a200144f-eb58-40d0-b3d7-b335ae960770"
      },
      "execution_count": 195,
      "outputs": [
        {
          "output_type": "execute_result",
          "data": {
            "text/plain": [
              "'https://www.shine.com/jobs/data-analyst-permanent/diraa-hr-services/14054678'"
            ],
            "application/vnd.google.colaboratory.intrinsic+json": {
              "type": "string"
            }
          },
          "metadata": {},
          "execution_count": 195
        }
      ]
    },
    {
      "cell_type": "code",
      "source": [
        "### Extract company name\n",
        "company = card.find('div', 'jobCard_jobCard_cName__mYnow').span.text\n",
        "company"
      ],
      "metadata": {
        "colab": {
          "base_uri": "https://localhost:8080/",
          "height": 35
        },
        "id": "eMchs1HCXKqh",
        "outputId": "961a61a2-3120-4343-a37c-4dd7341388bd"
      },
      "execution_count": 196,
      "outputs": [
        {
          "output_type": "execute_result",
          "data": {
            "text/plain": [
              "'DIRAA HR SERVICES Hiring For MNCs'"
            ],
            "application/vnd.google.colaboratory.intrinsic+json": {
              "type": "string"
            }
          },
          "metadata": {},
          "execution_count": 196
        }
      ]
    },
    {
      "cell_type": "code",
      "source": [
        "### Use the div tag to find the location\n",
        "job_location = card.find('div', 'jobCard_locationIcon__zrWt2').text\n",
        "job_location"
      ],
      "metadata": {
        "colab": {
          "base_uri": "https://localhost:8080/",
          "height": 35
        },
        "id": "j7avy-BAazbo",
        "outputId": "ecf45d40-7205-46ed-e940-9e7a7ddd2c8e"
      },
      "execution_count": 197,
      "outputs": [
        {
          "output_type": "execute_result",
          "data": {
            "text/plain": [
              "'Bangalore+3Chennai, Hyderabad, Coimbatore'"
            ],
            "application/vnd.google.colaboratory.intrinsic+json": {
              "type": "string"
            }
          },
          "metadata": {},
          "execution_count": 197
        }
      ]
    },
    {
      "cell_type": "code",
      "source": [
        "### Gettting the job type\n",
        "job_type = card.find('ul', 'jobCard_jobCard_jobDetail__jD82J').text\n",
        "job_type"
      ],
      "metadata": {
        "colab": {
          "base_uri": "https://localhost:8080/",
          "height": 35
        },
        "id": "omuBgPaebfVD",
        "outputId": "6232c04c-15ad-4a25-9247-7243fe2a2fa8"
      },
      "execution_count": 198,
      "outputs": [
        {
          "output_type": "execute_result",
          "data": {
            "text/plain": [
              "'Regular10 Positions'"
            ],
            "application/vnd.google.colaboratory.intrinsic+json": {
              "type": "string"
            }
          },
          "metadata": {},
          "execution_count": 198
        }
      ]
    },
    {
      "cell_type": "code",
      "source": [
        "### Then getting the day job was posted\n",
        "post_date = card.find('div', 'jobCard_jobCard_features__wJid6').find_all('span')[-1].text\n",
        "post_date"
      ],
      "metadata": {
        "colab": {
          "base_uri": "https://localhost:8080/",
          "height": 35
        },
        "id": "L0PlFybBeDcD",
        "outputId": "876613f8-4890-49a4-fbcd-8806bff159a1"
      },
      "execution_count": 199,
      "outputs": [
        {
          "output_type": "execute_result",
          "data": {
            "text/plain": [
              "'2 months ago'"
            ],
            "application/vnd.google.colaboratory.intrinsic+json": {
              "type": "string"
            }
          },
          "metadata": {},
          "execution_count": 199
        }
      ]
    },
    {
      "cell_type": "code",
      "source": [
        "### Get current date\n",
        "today = datetime.today().strftime('%Y-%m-%d')\n",
        "today"
      ],
      "metadata": {
        "colab": {
          "base_uri": "https://localhost:8080/",
          "height": 35
        },
        "id": "Hwmn08dUgdto",
        "outputId": "a87959e9-a5ed-4cc6-dabb-7d489ab77f27"
      },
      "execution_count": 200,
      "outputs": [
        {
          "output_type": "execute_result",
          "data": {
            "text/plain": [
              "'2024-03-19'"
            ],
            "application/vnd.google.colaboratory.intrinsic+json": {
              "type": "string"
            }
          },
          "metadata": {},
          "execution_count": 200
        }
      ]
    },
    {
      "cell_type": "code",
      "source": [
        "### We also need to get the years of experience needed\n",
        "try:\n",
        "  work_experience = card.find('div', 'jobCard_jobCard_lists_item__YxRkV jobCard_jobIcon__3FB1t').text\n",
        "except AttributeError:\n",
        "  work_experience = ''\n",
        "work_experience"
      ],
      "metadata": {
        "colab": {
          "base_uri": "https://localhost:8080/",
          "height": 35
        },
        "id": "WqUaagMQiLjC",
        "outputId": "c1007eff-078e-412e-ac72-9901e0851d69"
      },
      "execution_count": 201,
      "outputs": [
        {
          "output_type": "execute_result",
          "data": {
            "text/plain": [
              "'0 to 1 Yr'"
            ],
            "application/vnd.google.colaboratory.intrinsic+json": {
              "type": "string"
            }
          },
          "metadata": {},
          "execution_count": 201
        }
      ]
    },
    {
      "cell_type": "markdown",
      "source": [
        "### Putting everything together into a model with a function"
      ],
      "metadata": {
        "id": "zshB3lJkjstX"
      }
    },
    {
      "cell_type": "code",
      "source": [
        "def get_record(card):\n",
        "  \"\"\"Extraxt job data from a single record\"\"\"\n",
        "  atag = card.h2.a\n",
        "  job_title = atag.text\n",
        "  job_url = 'https://www.shine.com' + atag.get('href')\n",
        "  company = card.find('div', 'jobCard_jobCard_cName__mYnow').span.text\n",
        "  job_location = card.find('div', 'jobCard_locationIcon__zrWt2').text\n",
        "  job_type = card.find('ul', 'jobCard_jobCard_jobDetail__jD82J').text\n",
        "  post_date = card.find('div', 'jobCard_jobCard_features__wJid6').find_all('span')[-1].text\n",
        "  today = datetime.today().strftime('%Y-%m-%d')\n",
        "  try:\n",
        "    work_experience = card.find('div', 'jobCard_jobCard_lists_item__YxRkV jobCard_jobIcon__3FB1t').text\n",
        "  except AttributeError:\n",
        "    work_experience = ''\n",
        "\n",
        "  record = (job_title, job_url, company, job_location, job_type, post_date, today, work_experience)\n",
        "\n",
        "  return record"
      ],
      "metadata": {
        "id": "ZhCN5WgEhCpL"
      },
      "execution_count": 202,
      "outputs": []
    },
    {
      "cell_type": "markdown",
      "source": [
        "### create a list of records"
      ],
      "metadata": {
        "id": "NkgdCUv_lDOj"
      }
    },
    {
      "cell_type": "code",
      "source": [
        "### Create an empty list\n",
        "records = []\n",
        "\n",
        "### then iterate through site using the cards\n",
        "for card in cards:\n",
        "  record = get_record(card)\n",
        "  records.append(record)"
      ],
      "metadata": {
        "id": "BHv9qoSglM5j"
      },
      "execution_count": 203,
      "outputs": []
    },
    {
      "cell_type": "code",
      "source": [
        "records[0]"
      ],
      "metadata": {
        "colab": {
          "base_uri": "https://localhost:8080/"
        },
        "id": "Qfjf0fcQlnZa",
        "outputId": "5a1a710b-d58c-41f6-e085-3da5146e8e50"
      },
      "execution_count": 204,
      "outputs": [
        {
          "output_type": "execute_result",
          "data": {
            "text/plain": [
              "('Data Analyst',\n",
              " 'https://www.shine.com/jobs/data-analyst-permanent/diraa-hr-services/14054678',\n",
              " 'DIRAA HR SERVICES Hiring For MNCs',\n",
              " 'Bangalore+3Chennai, Hyderabad, Coimbatore',\n",
              " 'Regular10 Positions',\n",
              " '2 months ago',\n",
              " '2024-03-19',\n",
              " '0 to 1 Yr')"
            ]
          },
          "metadata": {},
          "execution_count": 204
        }
      ]
    },
    {
      "cell_type": "markdown",
      "source": [
        "### Getting to the next page\n",
        "\n",
        "The model we have created previously was for getting details on only the first page.\n",
        "We now have to create a model on how to get to the next page\n",
        "\n",
        "- Frist we get the href for next page\n",
        "- Then we itirate through each page\n",
        "- Then use records to get each page details"
      ],
      "metadata": {
        "id": "RUKWUXhzmKJs"
      }
    },
    {
      "cell_type": "code",
      "source": [
        "### trying to get for only 20 pages\n",
        "\n",
        "while True:\n",
        "  try:\n",
        "    url = 'https://www.shine.com/job-search/' + soup.find('div', 'jsrpcomponent_pagination__gBo0y').find('a', {'title': 'Next'}).get('href')\n",
        "    url\n",
        "  except AttributeError:\n",
        "    break\n",
        "  response = requests.get(url)\n",
        "  soup = BeautifulSoup(response.text, 'html.parser')\n",
        "  cards = soup.find_all('div', 'jobCard_jobCard__jjUmu')\n",
        "\n",
        "  for card in cards:\n",
        "    record = get_record(card)\n",
        "    records.append(record)\n",
        "\n",
        "\n",
        "    # Check if we have reached the last page\n",
        "    if not url:\n",
        "        break"
      ],
      "metadata": {
        "id": "0drmpNmllqn3"
      },
      "execution_count": 205,
      "outputs": []
    },
    {
      "cell_type": "code",
      "source": [
        "len(records)"
      ],
      "metadata": {
        "colab": {
          "base_uri": "https://localhost:8080/"
        },
        "id": "ztodRKiEnHvY",
        "outputId": "d64ef6f6-0065-4fc4-9919-9c9059600282"
      },
      "execution_count": 206,
      "outputs": [
        {
          "output_type": "execute_result",
          "data": {
            "text/plain": [
              "15"
            ]
          },
          "metadata": {},
          "execution_count": 206
        }
      ]
    },
    {
      "cell_type": "markdown",
      "source": [
        "### Putting it all together"
      ],
      "metadata": {
        "id": "yfOTcOJW0y0H"
      }
    },
    {
      "cell_type": "code",
      "source": [
        "import csv\n",
        "import pandas as pd\n",
        "from datetime import datetime\n",
        "import requests\n",
        "from bs4 import BeautifulSoup\n",
        "import os\n",
        "\n",
        "def get_url(position, location):\n",
        "    \"\"\"Generate a URL from position and location\"\"\"\n",
        "    template = 'https://www.shine.com/job-search/{}-jobs-in-{}?q={}&loc={}'\n",
        "    url = template.format(position, location, position, location)\n",
        "    return url\n",
        "\n",
        "def get_record(card):\n",
        "  \"\"\"Extraxt job data from a single record\"\"\"\n",
        "  atag = card.h2.a\n",
        "  job_title = atag.text\n",
        "  job_url = 'https://www.shine.com' + atag.get('href')\n",
        "  company = card.find('div', 'jobCard_jobCard_cName__mYnow').span.text\n",
        "  job_location = card.find('div', 'jobCard_locationIcon__zrWt2').text\n",
        "  job_type = card.find('ul', 'jobCard_jobCard_jobDetail__jD82J').text\n",
        "  post_date = card.find('div', 'jobCard_jobCard_features__wJid6').find_all('span')[-1].text\n",
        "  today = datetime.today().strftime('%Y-%m-%d')\n",
        "  try:\n",
        "    work_experience = card.find('div', 'jobCard_jobCard_lists_item__YxRkV jobCard_jobIcon__3FB1t').text\n",
        "  except AttributeError:\n",
        "    work_experience = ''\n",
        "\n",
        "  record = (job_title, job_url, company, job_location, job_type, post_date, today, work_experience)\n",
        "\n",
        "  return record\n",
        "\n",
        "def main(position, location):\n",
        "  \"\"\"Run the main program routine\"\"\"\n",
        "  records = []\n",
        "  url = get_url(position, location)\n",
        "\n",
        "  while True:\n",
        "    response = requests.get(url)\n",
        "    soup = BeautifulSoup(response.text, 'html.parser')\n",
        "    cards = soup.find_all('div', 'jobCard_jobCard__jjUmu')\n",
        "\n",
        "    for card in cards:\n",
        "      record = get_record(card)\n",
        "      records.append(record)\n",
        "\n",
        "    try:\n",
        "      url = 'https://www.shine.com/job-search/' + soup.find('div', 'jsrpcomponent_pagination__gBo0y').find('a', {'title': 'Next'}).get('href')\n",
        "    except AttributeError:\n",
        "      break\n",
        "\n",
        "  # Create a DataFrame from the list of records\n",
        "  df = pd.DataFrame(records, columns=['Job Title', 'Job URL', 'Company', 'Job Location', 'Job Type', 'Post Date', 'Scraping Date', 'Work Experience'])\n",
        "\n",
        "  # Check if the CSV file already exists\n",
        "  if os.path.exists('jobs_listing_data.csv'):\n",
        "      # Load the existing DataFrame from the CSV file\n",
        "      existing_df = pd.read_csv('jobs_listing_data.csv')\n",
        "      # Concatenate the existing DataFrame with the new DataFrame\n",
        "      df = pd.concat([existing_df, df], ignore_index=True)\n",
        "      # Remove duplicate rows\n",
        "      df = df.drop_duplicates()\n",
        "\n",
        "  # Save DataFrame to CSV file\n",
        "  df.to_csv('jobs_listing_data.csv', index=False)"
      ],
      "metadata": {
        "id": "0EBLQKas0uhW"
      },
      "execution_count": 207,
      "outputs": []
    },
    {
      "cell_type": "markdown",
      "source": [
        "#### Anytime a new job posting is needed, we just enter job title and location"
      ],
      "metadata": {
        "id": "BQUwS_yDPrEp"
      }
    },
    {
      "cell_type": "code",
      "source": [
        "### Run the main program\n",
        "main('Big Data Analyst', 'India')"
      ],
      "metadata": {
        "id": "NxRcgjP36MDt"
      },
      "execution_count": 208,
      "outputs": []
    },
    {
      "cell_type": "code",
      "source": [
        "### Read the csv created data\n",
        "jobs_listing_data = pd.read_csv('jobs_listing_data.csv')\n",
        "jobs_listing_data.head()"
      ],
      "metadata": {
        "colab": {
          "base_uri": "https://localhost:8080/",
          "height": 206
        },
        "id": "7GbX2NGgLOpt",
        "outputId": "035910a0-e868-4e2c-d304-893e6ff63ad5"
      },
      "execution_count": 209,
      "outputs": [
        {
          "output_type": "execute_result",
          "data": {
            "text/plain": [
              "                    Job Title  \\\n",
              "0            Graphic Designer   \n",
              "1           Graphics Designer   \n",
              "2  Assistant Graphic Designer   \n",
              "3            Graphic Designer   \n",
              "4            Graphic Designer   \n",
              "\n",
              "                                             Job URL  \\\n",
              "0  https://www.shine.com/jobs/graphic-designer-pe...   \n",
              "1  https://www.shine.com/jobs/graphics-designer-p...   \n",
              "2  https://www.shine.com/jobs/assistant-graphic-d...   \n",
              "3  https://www.shine.com/jobs/graphic-designer-pe...   \n",
              "4  https://www.shine.com/jobs/graphic-designer-pe...   \n",
              "\n",
              "                                  Company                Job Location  \\\n",
              "0                              Connexions     Jaipur+1Other Rajasthan   \n",
              "1                              Connexions     Jaipur+1Other Rajasthan   \n",
              "2  Scaleswift Digital Services Pvt. Lt...                   All India   \n",
              "3         RK Websoft Technologies Pvt Ltd        Other Gujarat+1Anand   \n",
              "4                       Sourcedesk Global  Kolkata+1Other West Bengal   \n",
              "\n",
              "  Job Type    Post Date Scraping Date Work Experience  \n",
              "0  Regular   3 days ago    2024-03-19      1 to 5 Yrs  \n",
              "1  Regular   3 days ago    2024-03-19      2 to 6 Yrs  \n",
              "2  Regular  3 weeks ago    2024-03-19      1 to 2 Yrs  \n",
              "3  Regular    1 day ago    2024-03-19      2 to 6 Yrs  \n",
              "4  Regular    1 day ago    2024-03-19      2 to 6 Yrs  "
            ],
            "text/html": [
              "\n",
              "  <div id=\"df-75ad23df-a774-447d-85e1-3aa5ad0a3559\" class=\"colab-df-container\">\n",
              "    <div>\n",
              "<style scoped>\n",
              "    .dataframe tbody tr th:only-of-type {\n",
              "        vertical-align: middle;\n",
              "    }\n",
              "\n",
              "    .dataframe tbody tr th {\n",
              "        vertical-align: top;\n",
              "    }\n",
              "\n",
              "    .dataframe thead th {\n",
              "        text-align: right;\n",
              "    }\n",
              "</style>\n",
              "<table border=\"1\" class=\"dataframe\">\n",
              "  <thead>\n",
              "    <tr style=\"text-align: right;\">\n",
              "      <th></th>\n",
              "      <th>Job Title</th>\n",
              "      <th>Job URL</th>\n",
              "      <th>Company</th>\n",
              "      <th>Job Location</th>\n",
              "      <th>Job Type</th>\n",
              "      <th>Post Date</th>\n",
              "      <th>Scraping Date</th>\n",
              "      <th>Work Experience</th>\n",
              "    </tr>\n",
              "  </thead>\n",
              "  <tbody>\n",
              "    <tr>\n",
              "      <th>0</th>\n",
              "      <td>Graphic Designer</td>\n",
              "      <td>https://www.shine.com/jobs/graphic-designer-pe...</td>\n",
              "      <td>Connexions</td>\n",
              "      <td>Jaipur+1Other Rajasthan</td>\n",
              "      <td>Regular</td>\n",
              "      <td>3 days ago</td>\n",
              "      <td>2024-03-19</td>\n",
              "      <td>1 to 5 Yrs</td>\n",
              "    </tr>\n",
              "    <tr>\n",
              "      <th>1</th>\n",
              "      <td>Graphics Designer</td>\n",
              "      <td>https://www.shine.com/jobs/graphics-designer-p...</td>\n",
              "      <td>Connexions</td>\n",
              "      <td>Jaipur+1Other Rajasthan</td>\n",
              "      <td>Regular</td>\n",
              "      <td>3 days ago</td>\n",
              "      <td>2024-03-19</td>\n",
              "      <td>2 to 6 Yrs</td>\n",
              "    </tr>\n",
              "    <tr>\n",
              "      <th>2</th>\n",
              "      <td>Assistant Graphic Designer</td>\n",
              "      <td>https://www.shine.com/jobs/assistant-graphic-d...</td>\n",
              "      <td>Scaleswift Digital Services Pvt. Lt...</td>\n",
              "      <td>All India</td>\n",
              "      <td>Regular</td>\n",
              "      <td>3 weeks ago</td>\n",
              "      <td>2024-03-19</td>\n",
              "      <td>1 to 2 Yrs</td>\n",
              "    </tr>\n",
              "    <tr>\n",
              "      <th>3</th>\n",
              "      <td>Graphic Designer</td>\n",
              "      <td>https://www.shine.com/jobs/graphic-designer-pe...</td>\n",
              "      <td>RK Websoft Technologies Pvt Ltd</td>\n",
              "      <td>Other Gujarat+1Anand</td>\n",
              "      <td>Regular</td>\n",
              "      <td>1 day ago</td>\n",
              "      <td>2024-03-19</td>\n",
              "      <td>2 to 6 Yrs</td>\n",
              "    </tr>\n",
              "    <tr>\n",
              "      <th>4</th>\n",
              "      <td>Graphic Designer</td>\n",
              "      <td>https://www.shine.com/jobs/graphic-designer-pe...</td>\n",
              "      <td>Sourcedesk Global</td>\n",
              "      <td>Kolkata+1Other West Bengal</td>\n",
              "      <td>Regular</td>\n",
              "      <td>1 day ago</td>\n",
              "      <td>2024-03-19</td>\n",
              "      <td>2 to 6 Yrs</td>\n",
              "    </tr>\n",
              "  </tbody>\n",
              "</table>\n",
              "</div>\n",
              "    <div class=\"colab-df-buttons\">\n",
              "\n",
              "  <div class=\"colab-df-container\">\n",
              "    <button class=\"colab-df-convert\" onclick=\"convertToInteractive('df-75ad23df-a774-447d-85e1-3aa5ad0a3559')\"\n",
              "            title=\"Convert this dataframe to an interactive table.\"\n",
              "            style=\"display:none;\">\n",
              "\n",
              "  <svg xmlns=\"http://www.w3.org/2000/svg\" height=\"24px\" viewBox=\"0 -960 960 960\">\n",
              "    <path d=\"M120-120v-720h720v720H120Zm60-500h600v-160H180v160Zm220 220h160v-160H400v160Zm0 220h160v-160H400v160ZM180-400h160v-160H180v160Zm440 0h160v-160H620v160ZM180-180h160v-160H180v160Zm440 0h160v-160H620v160Z\"/>\n",
              "  </svg>\n",
              "    </button>\n",
              "\n",
              "  <style>\n",
              "    .colab-df-container {\n",
              "      display:flex;\n",
              "      gap: 12px;\n",
              "    }\n",
              "\n",
              "    .colab-df-convert {\n",
              "      background-color: #E8F0FE;\n",
              "      border: none;\n",
              "      border-radius: 50%;\n",
              "      cursor: pointer;\n",
              "      display: none;\n",
              "      fill: #1967D2;\n",
              "      height: 32px;\n",
              "      padding: 0 0 0 0;\n",
              "      width: 32px;\n",
              "    }\n",
              "\n",
              "    .colab-df-convert:hover {\n",
              "      background-color: #E2EBFA;\n",
              "      box-shadow: 0px 1px 2px rgba(60, 64, 67, 0.3), 0px 1px 3px 1px rgba(60, 64, 67, 0.15);\n",
              "      fill: #174EA6;\n",
              "    }\n",
              "\n",
              "    .colab-df-buttons div {\n",
              "      margin-bottom: 4px;\n",
              "    }\n",
              "\n",
              "    [theme=dark] .colab-df-convert {\n",
              "      background-color: #3B4455;\n",
              "      fill: #D2E3FC;\n",
              "    }\n",
              "\n",
              "    [theme=dark] .colab-df-convert:hover {\n",
              "      background-color: #434B5C;\n",
              "      box-shadow: 0px 1px 3px 1px rgba(0, 0, 0, 0.15);\n",
              "      filter: drop-shadow(0px 1px 2px rgba(0, 0, 0, 0.3));\n",
              "      fill: #FFFFFF;\n",
              "    }\n",
              "  </style>\n",
              "\n",
              "    <script>\n",
              "      const buttonEl =\n",
              "        document.querySelector('#df-75ad23df-a774-447d-85e1-3aa5ad0a3559 button.colab-df-convert');\n",
              "      buttonEl.style.display =\n",
              "        google.colab.kernel.accessAllowed ? 'block' : 'none';\n",
              "\n",
              "      async function convertToInteractive(key) {\n",
              "        const element = document.querySelector('#df-75ad23df-a774-447d-85e1-3aa5ad0a3559');\n",
              "        const dataTable =\n",
              "          await google.colab.kernel.invokeFunction('convertToInteractive',\n",
              "                                                    [key], {});\n",
              "        if (!dataTable) return;\n",
              "\n",
              "        const docLinkHtml = 'Like what you see? Visit the ' +\n",
              "          '<a target=\"_blank\" href=https://colab.research.google.com/notebooks/data_table.ipynb>data table notebook</a>'\n",
              "          + ' to learn more about interactive tables.';\n",
              "        element.innerHTML = '';\n",
              "        dataTable['output_type'] = 'display_data';\n",
              "        await google.colab.output.renderOutput(dataTable, element);\n",
              "        const docLink = document.createElement('div');\n",
              "        docLink.innerHTML = docLinkHtml;\n",
              "        element.appendChild(docLink);\n",
              "      }\n",
              "    </script>\n",
              "  </div>\n",
              "\n",
              "\n",
              "<div id=\"df-0fb999e7-44da-469b-8ff0-3d2f50d052b5\">\n",
              "  <button class=\"colab-df-quickchart\" onclick=\"quickchart('df-0fb999e7-44da-469b-8ff0-3d2f50d052b5')\"\n",
              "            title=\"Suggest charts\"\n",
              "            style=\"display:none;\">\n",
              "\n",
              "<svg xmlns=\"http://www.w3.org/2000/svg\" height=\"24px\"viewBox=\"0 0 24 24\"\n",
              "     width=\"24px\">\n",
              "    <g>\n",
              "        <path d=\"M19 3H5c-1.1 0-2 .9-2 2v14c0 1.1.9 2 2 2h14c1.1 0 2-.9 2-2V5c0-1.1-.9-2-2-2zM9 17H7v-7h2v7zm4 0h-2V7h2v10zm4 0h-2v-4h2v4z\"/>\n",
              "    </g>\n",
              "</svg>\n",
              "  </button>\n",
              "\n",
              "<style>\n",
              "  .colab-df-quickchart {\n",
              "      --bg-color: #E8F0FE;\n",
              "      --fill-color: #1967D2;\n",
              "      --hover-bg-color: #E2EBFA;\n",
              "      --hover-fill-color: #174EA6;\n",
              "      --disabled-fill-color: #AAA;\n",
              "      --disabled-bg-color: #DDD;\n",
              "  }\n",
              "\n",
              "  [theme=dark] .colab-df-quickchart {\n",
              "      --bg-color: #3B4455;\n",
              "      --fill-color: #D2E3FC;\n",
              "      --hover-bg-color: #434B5C;\n",
              "      --hover-fill-color: #FFFFFF;\n",
              "      --disabled-bg-color: #3B4455;\n",
              "      --disabled-fill-color: #666;\n",
              "  }\n",
              "\n",
              "  .colab-df-quickchart {\n",
              "    background-color: var(--bg-color);\n",
              "    border: none;\n",
              "    border-radius: 50%;\n",
              "    cursor: pointer;\n",
              "    display: none;\n",
              "    fill: var(--fill-color);\n",
              "    height: 32px;\n",
              "    padding: 0;\n",
              "    width: 32px;\n",
              "  }\n",
              "\n",
              "  .colab-df-quickchart:hover {\n",
              "    background-color: var(--hover-bg-color);\n",
              "    box-shadow: 0 1px 2px rgba(60, 64, 67, 0.3), 0 1px 3px 1px rgba(60, 64, 67, 0.15);\n",
              "    fill: var(--button-hover-fill-color);\n",
              "  }\n",
              "\n",
              "  .colab-df-quickchart-complete:disabled,\n",
              "  .colab-df-quickchart-complete:disabled:hover {\n",
              "    background-color: var(--disabled-bg-color);\n",
              "    fill: var(--disabled-fill-color);\n",
              "    box-shadow: none;\n",
              "  }\n",
              "\n",
              "  .colab-df-spinner {\n",
              "    border: 2px solid var(--fill-color);\n",
              "    border-color: transparent;\n",
              "    border-bottom-color: var(--fill-color);\n",
              "    animation:\n",
              "      spin 1s steps(1) infinite;\n",
              "  }\n",
              "\n",
              "  @keyframes spin {\n",
              "    0% {\n",
              "      border-color: transparent;\n",
              "      border-bottom-color: var(--fill-color);\n",
              "      border-left-color: var(--fill-color);\n",
              "    }\n",
              "    20% {\n",
              "      border-color: transparent;\n",
              "      border-left-color: var(--fill-color);\n",
              "      border-top-color: var(--fill-color);\n",
              "    }\n",
              "    30% {\n",
              "      border-color: transparent;\n",
              "      border-left-color: var(--fill-color);\n",
              "      border-top-color: var(--fill-color);\n",
              "      border-right-color: var(--fill-color);\n",
              "    }\n",
              "    40% {\n",
              "      border-color: transparent;\n",
              "      border-right-color: var(--fill-color);\n",
              "      border-top-color: var(--fill-color);\n",
              "    }\n",
              "    60% {\n",
              "      border-color: transparent;\n",
              "      border-right-color: var(--fill-color);\n",
              "    }\n",
              "    80% {\n",
              "      border-color: transparent;\n",
              "      border-right-color: var(--fill-color);\n",
              "      border-bottom-color: var(--fill-color);\n",
              "    }\n",
              "    90% {\n",
              "      border-color: transparent;\n",
              "      border-bottom-color: var(--fill-color);\n",
              "    }\n",
              "  }\n",
              "</style>\n",
              "\n",
              "  <script>\n",
              "    async function quickchart(key) {\n",
              "      const quickchartButtonEl =\n",
              "        document.querySelector('#' + key + ' button');\n",
              "      quickchartButtonEl.disabled = true;  // To prevent multiple clicks.\n",
              "      quickchartButtonEl.classList.add('colab-df-spinner');\n",
              "      try {\n",
              "        const charts = await google.colab.kernel.invokeFunction(\n",
              "            'suggestCharts', [key], {});\n",
              "      } catch (error) {\n",
              "        console.error('Error during call to suggestCharts:', error);\n",
              "      }\n",
              "      quickchartButtonEl.classList.remove('colab-df-spinner');\n",
              "      quickchartButtonEl.classList.add('colab-df-quickchart-complete');\n",
              "    }\n",
              "    (() => {\n",
              "      let quickchartButtonEl =\n",
              "        document.querySelector('#df-0fb999e7-44da-469b-8ff0-3d2f50d052b5 button');\n",
              "      quickchartButtonEl.style.display =\n",
              "        google.colab.kernel.accessAllowed ? 'block' : 'none';\n",
              "    })();\n",
              "  </script>\n",
              "</div>\n",
              "\n",
              "    </div>\n",
              "  </div>\n"
            ],
            "application/vnd.google.colaboratory.intrinsic+json": {
              "type": "dataframe",
              "variable_name": "jobs_listing_data",
              "summary": "{\n  \"name\": \"jobs_listing_data\",\n  \"rows\": 1349,\n  \"fields\": [\n    {\n      \"column\": \"Job Title\",\n      \"properties\": {\n        \"dtype\": \"string\",\n        \"num_unique_values\": 982,\n        \"samples\": [\n          \"Legal Counsel.\",\n          \"Gis Engineer\",\n          \"Business Development Specialist\"\n        ],\n        \"semantic_type\": \"\",\n        \"description\": \"\"\n      }\n    },\n    {\n      \"column\": \"Job URL\",\n      \"properties\": {\n        \"dtype\": \"string\",\n        \"num_unique_values\": 1349,\n        \"samples\": [\n          \"https://www.shine.com/jobs/machine-learning-specialist-permanent/eminence-technology/14398914\",\n          \"https://www.shine.com/jobs/data-scientist-permanent/racanaa-energy/14143874\",\n          \"https://www.shine.com/jobs/ai-ml-engineer-permanent/energy-exemplar/14158982\"\n        ],\n        \"semantic_type\": \"\",\n        \"description\": \"\"\n      }\n    },\n    {\n      \"column\": \"Company\",\n      \"properties\": {\n        \"dtype\": \"string\",\n        \"num_unique_values\": 1002,\n        \"samples\": [\n          \"Syren Cloud Inc\",\n          \"RapidQube Digital Solutions\",\n          \"Buxton Consulting\"\n        ],\n        \"semantic_type\": \"\",\n        \"description\": \"\"\n      }\n    },\n    {\n      \"column\": \"Job Location\",\n      \"properties\": {\n        \"dtype\": \"category\",\n        \"num_unique_values\": 68,\n        \"samples\": [\n          \"Mumbai City+1Bangalore\",\n          \"Other Gujarat+1Ahmedabad\",\n          \"Ghaziabad+1Other Uttar Pradesh\"\n        ],\n        \"semantic_type\": \"\",\n        \"description\": \"\"\n      }\n    },\n    {\n      \"column\": \"Job Type\",\n      \"properties\": {\n        \"dtype\": \"category\",\n        \"num_unique_values\": 6,\n        \"samples\": [\n          \"Regular\",\n          \"Regular3 Positions\",\n          \"Regular20 Positions\"\n        ],\n        \"semantic_type\": \"\",\n        \"description\": \"\"\n      }\n    },\n    {\n      \"column\": \"Post Date\",\n      \"properties\": {\n        \"dtype\": \"category\",\n        \"num_unique_values\": 14,\n        \"samples\": [\n          \"2 months ago\",\n          \"0 days ago\",\n          \"3 days ago\"\n        ],\n        \"semantic_type\": \"\",\n        \"description\": \"\"\n      }\n    },\n    {\n      \"column\": \"Scraping Date\",\n      \"properties\": {\n        \"dtype\": \"object\",\n        \"num_unique_values\": 1,\n        \"samples\": [\n          \"2024-03-19\"\n        ],\n        \"semantic_type\": \"\",\n        \"description\": \"\"\n      }\n    },\n    {\n      \"column\": \"Work Experience\",\n      \"properties\": {\n        \"dtype\": \"category\",\n        \"num_unique_values\": 98,\n        \"samples\": [\n          \"10 to 13 Yrs\"\n        ],\n        \"semantic_type\": \"\",\n        \"description\": \"\"\n      }\n    }\n  ]\n}"
            }
          },
          "metadata": {},
          "execution_count": 209
        }
      ]
    },
    {
      "cell_type": "code",
      "source": [],
      "metadata": {
        "id": "4VhM-t-YQLwV"
      },
      "execution_count": 209,
      "outputs": []
    }
  ]
}